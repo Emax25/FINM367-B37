{
 "cells": [
  {
   "cell_type": "code",
   "execution_count": null,
   "id": "16a6ddbf",
   "metadata": {},
   "outputs": [
    {
     "data": {
      "text/html": [
       "<div>\n",
       "<style scoped>\n",
       "    .dataframe tbody tr th:only-of-type {\n",
       "        vertical-align: middle;\n",
       "    }\n",
       "\n",
       "    .dataframe tbody tr th {\n",
       "        vertical-align: top;\n",
       "    }\n",
       "\n",
       "    .dataframe thead th {\n",
       "        text-align: right;\n",
       "    }\n",
       "</style>\n",
       "<table border=\"1\" class=\"dataframe\">\n",
       "  <thead>\n",
       "    <tr style=\"text-align: right;\">\n",
       "      <th></th>\n",
       "      <th>MKT</th>\n",
       "      <th>SMB</th>\n",
       "      <th>HML</th>\n",
       "      <th>RMW</th>\n",
       "      <th>CMA</th>\n",
       "      <th>UMD</th>\n",
       "    </tr>\n",
       "    <tr>\n",
       "      <th>Date</th>\n",
       "      <th></th>\n",
       "      <th></th>\n",
       "      <th></th>\n",
       "      <th></th>\n",
       "      <th></th>\n",
       "      <th></th>\n",
       "    </tr>\n",
       "  </thead>\n",
       "  <tbody>\n",
       "    <tr>\n",
       "      <th>1980-01-31</th>\n",
       "      <td>0.0550</td>\n",
       "      <td>0.0188</td>\n",
       "      <td>0.0185</td>\n",
       "      <td>-0.0184</td>\n",
       "      <td>0.0189</td>\n",
       "      <td>0.0745</td>\n",
       "    </tr>\n",
       "    <tr>\n",
       "      <th>1980-02-29</th>\n",
       "      <td>-0.0123</td>\n",
       "      <td>-0.0162</td>\n",
       "      <td>0.0059</td>\n",
       "      <td>-0.0095</td>\n",
       "      <td>0.0292</td>\n",
       "      <td>0.0789</td>\n",
       "    </tr>\n",
       "    <tr>\n",
       "      <th>1980-03-31</th>\n",
       "      <td>-0.1289</td>\n",
       "      <td>-0.0697</td>\n",
       "      <td>-0.0096</td>\n",
       "      <td>0.0182</td>\n",
       "      <td>-0.0105</td>\n",
       "      <td>-0.0958</td>\n",
       "    </tr>\n",
       "    <tr>\n",
       "      <th>1980-04-30</th>\n",
       "      <td>0.0396</td>\n",
       "      <td>0.0105</td>\n",
       "      <td>0.0103</td>\n",
       "      <td>-0.0218</td>\n",
       "      <td>0.0034</td>\n",
       "      <td>-0.0048</td>\n",
       "    </tr>\n",
       "    <tr>\n",
       "      <th>1980-05-31</th>\n",
       "      <td>0.0526</td>\n",
       "      <td>0.0200</td>\n",
       "      <td>0.0038</td>\n",
       "      <td>0.0043</td>\n",
       "      <td>-0.0063</td>\n",
       "      <td>-0.0118</td>\n",
       "    </tr>\n",
       "  </tbody>\n",
       "</table>\n",
       "</div>"
      ],
      "text/plain": [
       "               MKT     SMB     HML     RMW     CMA     UMD\n",
       "Date                                                      \n",
       "1980-01-31  0.0550  0.0188  0.0185 -0.0184  0.0189  0.0745\n",
       "1980-02-29 -0.0123 -0.0162  0.0059 -0.0095  0.0292  0.0789\n",
       "1980-03-31 -0.1289 -0.0697 -0.0096  0.0182 -0.0105 -0.0958\n",
       "1980-04-30  0.0396  0.0105  0.0103 -0.0218  0.0034 -0.0048\n",
       "1980-05-31  0.0526  0.0200  0.0038  0.0043 -0.0063 -0.0118"
      ]
     },
     "execution_count": 1,
     "metadata": {},
     "output_type": "execute_result"
    }
   ],
   "source": [
    "#2\n",
    "import pandas as pd\n",
    "import numpy as np\n",
    "\n",
    "df = pd.read_excel('../data/factor_pricing_data_monthly.xlsx', sheet_name='factors (excess returns)')\n",
    "df['Date'] = pd.to_datetime(df['Date'], format='%Y%m')\n",
    "df.set_index('Date', inplace=True)\n",
    "df.head()"
   ]
  },
  {
   "cell_type": "code",
   "execution_count": 2,
   "id": "ec3b0db1",
   "metadata": {},
   "outputs": [
    {
     "data": {
      "text/html": [
       "<div>\n",
       "<style scoped>\n",
       "    .dataframe tbody tr th:only-of-type {\n",
       "        vertical-align: middle;\n",
       "    }\n",
       "\n",
       "    .dataframe tbody tr th {\n",
       "        vertical-align: top;\n",
       "    }\n",
       "\n",
       "    .dataframe thead th {\n",
       "        text-align: right;\n",
       "    }\n",
       "</style>\n",
       "<table border=\"1\" class=\"dataframe\">\n",
       "  <thead>\n",
       "    <tr style=\"text-align: right;\">\n",
       "      <th></th>\n",
       "      <th>Mean</th>\n",
       "      <th>Volatility</th>\n",
       "      <th>Sharpe</th>\n",
       "    </tr>\n",
       "  </thead>\n",
       "  <tbody>\n",
       "    <tr>\n",
       "      <th>MKT</th>\n",
       "      <td>0.0876</td>\n",
       "      <td>0.1561</td>\n",
       "      <td>0.5607</td>\n",
       "    </tr>\n",
       "    <tr>\n",
       "      <th>SMB</th>\n",
       "      <td>0.0061</td>\n",
       "      <td>0.1013</td>\n",
       "      <td>0.0604</td>\n",
       "    </tr>\n",
       "    <tr>\n",
       "      <th>HML</th>\n",
       "      <td>0.0260</td>\n",
       "      <td>0.1088</td>\n",
       "      <td>0.2392</td>\n",
       "    </tr>\n",
       "    <tr>\n",
       "      <th>RMW</th>\n",
       "      <td>0.0440</td>\n",
       "      <td>0.0829</td>\n",
       "      <td>0.5311</td>\n",
       "    </tr>\n",
       "    <tr>\n",
       "      <th>CMA</th>\n",
       "      <td>0.0283</td>\n",
       "      <td>0.0725</td>\n",
       "      <td>0.3903</td>\n",
       "    </tr>\n",
       "    <tr>\n",
       "      <th>UMD</th>\n",
       "      <td>0.0603</td>\n",
       "      <td>0.1534</td>\n",
       "      <td>0.3933</td>\n",
       "    </tr>\n",
       "  </tbody>\n",
       "</table>\n",
       "</div>"
      ],
      "text/plain": [
       "       Mean  Volatility  Sharpe\n",
       "MKT  0.0876      0.1561  0.5607\n",
       "SMB  0.0061      0.1013  0.0604\n",
       "HML  0.0260      0.1088  0.2392\n",
       "RMW  0.0440      0.0829  0.5311\n",
       "CMA  0.0283      0.0725  0.3903\n",
       "UMD  0.0603      0.1534  0.3933"
      ]
     },
     "execution_count": 2,
     "metadata": {},
     "output_type": "execute_result"
    }
   ],
   "source": [
    "# 2.1\n",
    "\n",
    "Freq = 12\n",
    "m = df.mean() * Freq\n",
    "s = df.std() * np.sqrt(Freq)\n",
    "sr = m / s\n",
    "\n",
    "summary = pd.DataFrame({\n",
    "    'Mean': m,\n",
    "    'Volatility': s,\n",
    "    'Sharpe': sr\n",
    "})\n",
    "summary = summary.round(4)\n",
    "summary"
   ]
  },
  {
   "cell_type": "code",
   "execution_count": 3,
   "id": "12a99ed8",
   "metadata": {},
   "outputs": [
    {
     "data": {
      "text/html": [
       "<div>\n",
       "<style scoped>\n",
       "    .dataframe tbody tr th:only-of-type {\n",
       "        vertical-align: middle;\n",
       "    }\n",
       "\n",
       "    .dataframe tbody tr th {\n",
       "        vertical-align: top;\n",
       "    }\n",
       "\n",
       "    .dataframe thead th {\n",
       "        text-align: right;\n",
       "    }\n",
       "</style>\n",
       "<table border=\"1\" class=\"dataframe\">\n",
       "  <thead>\n",
       "    <tr style=\"text-align: right;\">\n",
       "      <th></th>\n",
       "      <th>Mean</th>\n",
       "      <th>Volatility</th>\n",
       "      <th>Sharpe</th>\n",
       "    </tr>\n",
       "  </thead>\n",
       "  <tbody>\n",
       "    <tr>\n",
       "      <th>MKT</th>\n",
       "      <td>0.1179</td>\n",
       "      <td>0.1574</td>\n",
       "      <td>0.7491</td>\n",
       "    </tr>\n",
       "    <tr>\n",
       "      <th>SMB</th>\n",
       "      <td>-0.0238</td>\n",
       "      <td>0.1032</td>\n",
       "      <td>-0.2305</td>\n",
       "    </tr>\n",
       "    <tr>\n",
       "      <th>HML</th>\n",
       "      <td>-0.0163</td>\n",
       "      <td>0.1299</td>\n",
       "      <td>-0.1255</td>\n",
       "    </tr>\n",
       "    <tr>\n",
       "      <th>RMW</th>\n",
       "      <td>0.0400</td>\n",
       "      <td>0.0726</td>\n",
       "      <td>0.5509</td>\n",
       "    </tr>\n",
       "    <tr>\n",
       "      <th>CMA</th>\n",
       "      <td>-0.0091</td>\n",
       "      <td>0.0821</td>\n",
       "      <td>-0.1114</td>\n",
       "    </tr>\n",
       "    <tr>\n",
       "      <th>UMD</th>\n",
       "      <td>0.0201</td>\n",
       "      <td>0.1374</td>\n",
       "      <td>0.1464</td>\n",
       "    </tr>\n",
       "  </tbody>\n",
       "</table>\n",
       "</div>"
      ],
      "text/plain": [
       "       Mean  Volatility  Sharpe\n",
       "MKT  0.1179      0.1574  0.7491\n",
       "SMB -0.0238      0.1032 -0.2305\n",
       "HML -0.0163      0.1299 -0.1255\n",
       "RMW  0.0400      0.0726  0.5509\n",
       "CMA -0.0091      0.0821 -0.1114\n",
       "UMD  0.0201      0.1374  0.1464"
      ]
     },
     "execution_count": 3,
     "metadata": {},
     "output_type": "execute_result"
    }
   ],
   "source": [
    "df_2015 = df[df.index >= '2015-01-01'].copy()\n",
    "\n",
    "m_2015 = df_2015.mean() * Freq\n",
    "s_2015 = df_2015.std() * np.sqrt(Freq)\n",
    "sr_2015 = m_2015 / s_2015\n",
    "\n",
    "summary_2015 = pd.DataFrame({\n",
    "    'Mean': m_2015,\n",
    "    'Volatility': s_2015,\n",
    "    'Sharpe': sr_2015\n",
    "})\n",
    "summary_2015 = summary_2015.round(4)\n",
    "summary_2015"
   ]
  },
  {
   "cell_type": "markdown",
   "id": "3c2ce70d",
   "metadata": {},
   "source": [
    "<span style=\"color:blue\">\n",
    "\n",
    "#2.2\n",
    "\n",
    "ANS: Each factor has a positive risk premium when we look at full sample. However, the risk premium of SMB, HML, CMA turn negative if we just look at the time period after 2015."
   ]
  },
  {
   "cell_type": "code",
   "execution_count": 4,
   "id": "18306e7c",
   "metadata": {},
   "outputs": [
    {
     "name": "stdout",
     "output_type": "stream",
     "text": [
      "Correlation Matrix (across six factors):\n"
     ]
    },
    {
     "data": {
      "image/png": "[encoded data removed]",
      "text/plain": [
       "<Figure size 800x600 with 2 Axes>"
      ]
     },
     "metadata": {},
     "output_type": "display_data"
    }
   ],
   "source": [
    "import seaborn as sns\n",
    "import matplotlib.pyplot as plt\n",
    "\n",
    "corr_matrix = df.corr()\n",
    "print(\"Correlation Matrix (across six factors):\")\n",
    "#print(corr_matrix.round(3))\n",
    "\n",
    "plt.figure(figsize=(8,6))\n",
    "sns.heatmap(corr_matrix, annot=True, cmap='coolwarm', center=0, fmt=\".2f\")\n",
    "plt.title(\"Correlation Matrix of Six Factors\")\n",
    "plt.tight_layout()\n",
    "plt.show()\n"
   ]
  },
  {
   "cell_type": "markdown",
   "id": "b7a70175",
   "metadata": {},
   "source": [
    "<span style=\"color:blue\">\n",
    "\n",
    "ANS: Most correlation is lower than 0.4, shows that the construction method succeeds in keeping correlations small.\n",
    "HML has a relatively high correlation (0.68) with CMA, this may be the reason Fama and French say that HML is somewhat redundant in their 5-factor model."
   ]
  },
  {
   "cell_type": "code",
   "execution_count": 6,
   "id": "3c352328",
   "metadata": {},
   "outputs": [
    {
     "name": "stdout",
     "output_type": "stream",
     "text": [
      "Tangency Portfolio Weights (6 factors):\n",
      "MKT    0.2186\n",
      "SMB    0.0668\n",
      "HML   -0.0212\n",
      "RMW    0.3018\n",
      "CMA    0.3214\n",
      "UMD    0.1125\n",
      "dtype: float64\n",
      "\n",
      "Tangency Portfolio Sharpe Ratio: 0.3468\n"
     ]
    }
   ],
   "source": [
    "#2.4\n",
    "\n",
    "# Tengency Portfolio with 6 FACTORS\n",
    "mean_returns = df.mean()\n",
    "cov_matrix = df.cov()\n",
    "\n",
    "inv_cov = np.linalg.inv(cov_matrix)\n",
    "ones = np.ones(len(df.columns))\n",
    "weights = inv_cov @ mean_returns\n",
    "weights = weights / (ones @ weights) \n",
    "\n",
    "tangency_weights = pd.Series(weights, index=df.columns)\n",
    "print(\"Tangency Portfolio Weights (6 factors):\")\n",
    "print(tangency_weights.round(4))\n",
    "\n",
    "port_mean = mean_returns @ tangency_weights\n",
    "port_vol = np.sqrt(tangency_weights.T @ cov_matrix @ tangency_weights)\n",
    "sharpe_ratio = port_mean / port_vol\n",
    "print(f\"\\nTangency Portfolio Sharpe Ratio: {sharpe_ratio:.4f}\")\n"
   ]
  },
  {
   "cell_type": "markdown",
   "id": "422a130b",
   "metadata": {},
   "source": [
    "<span style=\"color:blue\">\n",
    "\n",
    "ANS: \n",
    "\n",
    "CMA factor seems the most important (0.32), while the HML factor seems the least important(-0.02).\n",
    "\n",
    "The factor with lowest mean return is SMB, it still has 6.7% weight in the tengency portfolio."
   ]
  },
  {
   "cell_type": "code",
   "execution_count": 8,
   "id": "5ac93553",
   "metadata": {},
   "outputs": [
    {
     "name": "stdout",
     "output_type": "stream",
     "text": [
      "\n",
      "Tangency Portfolio Weights (4 factors):\n",
      "MKT    0.3765\n",
      "SMB   -0.0512\n",
      "HML    0.3653\n",
      "UMD    0.3094\n",
      "dtype: float64\n",
      "\n",
      "Tangency Portfolio Sharpe Ratio (4 factors): 0.2638\n"
     ]
    }
   ],
   "source": [
    "# Tengency Portfolio with 4 FACTORS\n",
    "\n",
    "subset = df[['MKT', 'SMB', 'HML', 'UMD']]\n",
    "mean4 = subset.mean()\n",
    "cov4 = subset.cov()\n",
    "\n",
    "inv_cov4 = np.linalg.inv(cov4)\n",
    "ones4 = np.ones(len(subset.columns))\n",
    "weights4 = inv_cov4 @ mean4\n",
    "weights4 = weights4 / (ones4 @ weights4)\n",
    "\n",
    "tangency_weights_4 = pd.Series(weights4, index=subset.columns)\n",
    "print(\"\\nTangency Portfolio Weights (4 factors):\")\n",
    "print(tangency_weights_4.round(4))\n",
    "\n",
    "port_mean4 = mean4 @ tangency_weights_4\n",
    "port_vol4 = np.sqrt(tangency_weights_4.T @ cov4 @ tangency_weights_4)\n",
    "sharpe_ratio4 = port_mean4 / port_vol4\n",
    "print(f\"\\nTangency Portfolio Sharpe Ratio (4 factors): {sharpe_ratio4:.4f}\")"
   ]
  },
  {
   "cell_type": "markdown",
   "id": "9e21a169",
   "metadata": {},
   "source": [
    "<span style=\"color:blue\">\n",
    "\n",
    "ANS: MKT factor seems the most important (0.38), while the SMB factor seems the least important(-0.05).\n",
    "\n",
    "SMB has low weight in both portfolio, so it seems last important. Meanwhile, HML is only impotant when CMA and RMW is not been consider. This states that HML is redundant by CMA abd RMW."
   ]
  },
  {
   "cell_type": "code",
   "execution_count": null,
   "id": "52d148e5",
   "metadata": {},
   "outputs": [],
   "source": []
  }
 ],
 "metadata": {
  "kernelspec": {
   "display_name": "Python 3",
   "language": "python",
   "name": "python3"
  },
  "language_info": {
   "codemirror_mode": {
    "name": "ipython",
    "version": 3
   },
   "file_extension": ".py",
   "mimetype": "text/x-python",
   "name": "python",
   "nbconvert_exporter": "python",
   "pygments_lexer": "ipython3",
   "version": "3.13.7"
  }
 },
 "nbformat": 4,
 "nbformat_minor": 5
}
