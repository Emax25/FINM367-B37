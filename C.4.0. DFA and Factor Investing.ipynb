{
 "cells": [
  {
   "cell_type": "markdown",
   "id": "791f233d",
   "metadata": {},
   "source": [
    "# DFA and Factor Investing\n",
    "\n",
    "## HBS Case\n",
    "### *Dimensional Fund Advisors, 2002 [HBS 9-203-026].\n",
    "\n",
    "*Pages 1-5 of the case are required. Pages 6-11 get into interesting issues around trading (especially adverse selection) and tax considerations. These sections are useful for building market knowledge, but we will not cover them.**"
   ]
  },
  {
   "cell_type": "markdown",
   "id": "8442c275",
   "metadata": {},
   "source": [
    "# 2. The Factors"
   ]
  },
  {
   "cell_type": "markdown",
   "id": "9e393f9f",
   "metadata": {},
   "source": [
    "DFA believes certain stocks have higher expected excess returns. In addition to the overall market equity premium, DFA believes that there is a premium attached to a **size** and **value** factor. Note that these three factors are already listed as **excess** returns.\n",
    "\n",
    "### Data\n",
    "Use the data found in `data/dfa_analysis_data.xlsx`.\n",
    "\n",
    "- Monthly **excess** return data for the overall equity market, $\\tilde{r}^{\\text{mkt}}$. \n",
    "\n",
    "- The sheet also contains data on two additional factors, `SMB` and `HML`, as well as the risk-free rate. \n",
    "\n",
    "- You do not need any of these columns for the homework. Just use the `MKT` column, which is **excess** market returns. (So no need to subtract the risk-free rate.)\n",
    "\n",
    "#### Source:\n",
    "\n",
    "Ken French library, accessible through the pandas-datareader API."
   ]
  },
  {
   "cell_type": "markdown",
   "id": "92ecce9a",
   "metadata": {},
   "source": [
    "### 1. The Factors\n",
    "\n",
    "Calculate their univariate performance statistics: \n",
    "\n",
    "* mean\n",
    "* volatility\n",
    "* Sharpe\n",
    "* VaR(.05)\n",
    "\n",
    "Report these for the following three subsamples:\n",
    "\n",
    "* Beginning - 1980\n",
    "* 1981 - 2001\n",
    "* 2002 - End\n",
    "\n",
    "### 2. \n",
    "\n",
    "Based on the factor statistics above, answer the following.\n",
    "\n",
    "- Does each factor have a premium (positive expected excess return) in each subsample?\n",
    "\n",
    "- Does the premium to the size factor get smaller after 1980?\n",
    "\n",
    "- Does the premium to the value factor get smaller during the 1990's?\n",
    "\n",
    "- How have the factors performed since the time of the case, (2002-present)?\n",
    "\n",
    "### 3.\n",
    "\n",
    "The factors are constructed in such a way as to reduce correlation between them.\n",
    "\n",
    "* Report the correlation matrix across the three factors. \n",
    "\n",
    "* Does the construction method succeed in keeping correlations small? \n",
    "\n",
    "* Does it achieve this in each subsample?\n",
    "\n",
    "### 4. \n",
    "\n",
    "* Plot the cumulative returns of the three factors. \n",
    "\n",
    "* Create plots for the 1981-2001 subsample as well as the 2002-Present subsample.\n",
    "\n",
    "### 5.\n",
    "\n",
    "* Does it appear that all three factors were valuable in 1981-2001? \n",
    "* And post-2001? \n",
    "\n",
    "Would you advise DFA to continue emphasizing all three factors?"
   ]
  },
  {
   "cell_type": "markdown",
   "id": "3709d188",
   "metadata": {},
   "source": [
    "# 3. CAPM"
   ]
  },
  {
   "cell_type": "markdown",
   "id": "f136661e",
   "metadata": {},
   "source": [
    "DFA believes that premia in stocks and stock portfolios is related to the three factors. \n",
    "\n",
    "Let's test `25` equity portfolios that span a wide range of size and value measures.\n",
    "\n",
    "#### Footnote\n",
    "For more on the portfolio construction, see the description at Ken French's data library. \n",
    "https://mba.tuck.dartmouth.edu/pages/faculty/ken.french/Data_Library/tw_5_ports.html\n",
    "\n",
    "#### Portfolios\n",
    "Monthly **total** return data on `25` equity portfolios sorted by their size-value characteristics. Denote these as $\\vec{r}^{i}$, for $n=1, \\ldots, 25$.\n",
    "- Note that while the factors were given as excess returns, the portfolios are total returns.\n",
    "- For this entire problem, focus on the 1981-Present subsample.\n",
    "\n",
    "### 1. Summary Statistics. \n",
    "\n",
    "For each portfolio, \n",
    "- Use the Risk-Free rate column in the factors tab to convert these total returns to excess returns.\n",
    "- Calculate the (annualized) univariate statistics from `1.1`."
   ]
  },
  {
   "cell_type": "markdown",
   "id": "5f848ae8",
   "metadata": {},
   "source": [
    "### 2. CAPM\n",
    "\n",
    "The Capital Asset Pricing Model (CAPM) asserts that an asset (or portfolio's) expected excess return is completely a function of its beta to the equity market index (`SPY`, or in this case, `MKT`.) \n",
    "\n",
    "Specifically, it asserts that, for any excess return, $\\tilde{r}^{i}$, its mean is proportional to the mean excess return of the market, $\\tilde{r}^{\\text{mkt}}$, where the proporitonality is the regression beta of $\\tilde{r}^{i}$ on $\\tilde{r}^{\\text{mkt}}$.\n",
    "\n",
    "$$\n",
    "\\mathbb{E}\\left[\\tilde{r}_{t}^{i}\\right] = \\beta^{i,\\text{mkt}}\\; \\mathbb{E}\\left[\\tilde{r}_{t}^{\\text{mkt}}\\right]\n",
    "$$\n",
    "\n",
    "Let's examine whether that seems plausible.\n",
    "\n",
    "For each of the $n=25$ test portfolios, run the CAPM time-series regression:\n",
    "\n",
    "$$\n",
    "\\tilde{r}_{t}^{i} = \\alpha^i + \\beta^{i,\\text{mkt}}\\; \\tilde{r}_{t}^{\\text{mkt}} + \\epsilon_{t}^{i}\n",
    "$$"
   ]
  },
  {
   "cell_type": "markdown",
   "id": "49d05468",
   "metadata": {},
   "source": [
    "So you are running 25 separate regressions, each using the $T$-sized sample of time-series data.\n",
    "\n",
    "* Report the betas and alphas for each test asset.\n",
    "\n",
    "* Report the mean-absolute-error of the CAPM:\n",
    "$$\\text{MAE} = \\frac{1}{n}\\sum_{i=1}^n \\left|\\alpha_i\\right|$$\n",
    "\n",
    "If the CAPM were true, what would we expect of the MAE?\n",
    "\n",
    "- Report the estimated $\\beta^{i,\\text{mkt}}$, Treynor Ratio, $\\alpha^i$, and Information Ratio for each of the $n$ regressions.\n",
    "\n",
    "- If the CAPM model were true, what would be true of the Treynor Ratios, alphas, and Information Ratios?"
   ]
  },
  {
   "cell_type": "markdown",
   "id": "3aa930af",
   "metadata": {},
   "source": [
    "### 3. Cross-sectional Estimation\n",
    "\n",
    "Let's test the CAPM directly. We already have what we need:\n",
    "\n",
    "- The dependent variable, (y): mean excess returns from each of the $n=25$ portfolios.\n",
    "- The regressor, (x): the market beta from each of the $n=25$ time-series regressions.\n",
    "\n",
    "Then we can estimate the following equation:\n",
    "\n",
    "$$\n",
    "\\underbrace{\\mathbb{E}\\left[\\tilde{r}^{i}\\right]}_{n\\times 1\\text{ data}} = \\textcolor{ForestGreen}{\\underbrace{\\eta}_{\\text{regression intercept}}} + \\underbrace{{\\beta}^{i,\\text{mkt}};}_{n\\times 1\\text{ data}}~ \\textcolor{ForestGreen}{\\underbrace{\\lambda_{\\text{mkt}}}_{\\text{regression estimate}}} + \\textcolor{ForestGreen}{\\underbrace{\\upsilon}_{n\\times 1\\text{ residuals}}}\n",
    "$$\n",
    "\n",
    "Note that\n",
    "- we use sample means as estimates of $\\mathbb{E}\\left[\\tilde{r}^{i}\\right]$. \n",
    "- this is a weird regression! The regressors are the betas from the time-series regressions we already ran!\n",
    "- this is a single regression, where we are combining evidence across all $n=25$ series. Thus, it is a cross-sectional regression!\n",
    "- the notation is trying to emphasize that the intercept is different than the time-series $\\alpha$ and that the regressor coefficient is different than the time-series betas.\n",
    "\n",
    "Report\n",
    "- the R-squared of this regression.\n",
    "- the intercept, $\\eta$. \n",
    "- the regression coefficient, $\\lambda_{\\text{mkt}}$.\n",
    "\n",
    "What would these three statistics be if the CAPM were completely accurate?"
   ]
  },
  {
   "cell_type": "markdown",
   "id": "0290cd42",
   "metadata": {},
   "source": [
    "### 4. Conclusion\n",
    "\n",
    "Broadly speaking, do these results support DFA's belieef in size and value portfolios containing premia unrelated to the market premium?"
   ]
  },
  {
   "cell_type": "markdown",
   "id": "885132b3",
   "metadata": {},
   "source": [
    "# 4. Extensions\n",
    "\n",
    "### 1.\n",
    "\n",
    "Re-do the analysis of `3.2` and `3.3`, but instead of using the market return as the factor, use a new factor: the in-sample tangency portfolio of the $n=25$ portfolios. \n",
    "\n",
    "You will not use the factor data for this problem!\n",
    "\n",
    "- Calculate $\\tilde{r}^{\\text{tan}}$ by solving the MV optimization of the $n$ excess returns. \n",
    "- Consider this to be your single factor.\n",
    "\n",
    "Instead of testing the CAPM, you will test the tangency-factor model:\n",
    "\n",
    "$$\n",
    "\\mathbb{E}\\left[\\tilde{r}_{t}^{i}\\right] = \\beta^{i,\\text{tan}}\\; \\mathbb{E}\\left[\\tilde{r}_{t}^{\\text{tan}}\\right]\n",
    "$$\n",
    "\n",
    "What do you find?"
   ]
  },
  {
   "cell_type": "markdown",
   "id": "b73db94f",
   "metadata": {},
   "source": [
    "### 2.\n",
    "\n",
    "Re-do the analysis of `3.2` and `3.3`, but instead of using only the `MKT` factor, use `MKT`, `SMB`, and `HML`. \n",
    "\n",
    "(Note again that all three are already given as **excess** returns, so there is no need to use the risk-free rate data.)\n",
    "\n",
    "Thus, instead of testing the CAPM, you will be testing the Fama-French 3-Factor Model.\n",
    "\n",
    "$$\n",
    "\\mathbb{E}\\left[\\tilde{r}_{t}^{i}\\right] = \\beta^{i,\\text{mkt}}\\; \\mathbb{E}\\left[\\tilde{r}_{t}^{\\text{mkt}}\\right] + \\beta^{i,\\text{size}}\\; \\mathbb{E}\\left[\\tilde{r}_{t}^{\\text{size}}\\right] + \\beta^{i,\\text{val}}\\; \\mathbb{E}\\left[\\tilde{r}_{t}^{\\text{val}}\\right]\n",
    "$$"
   ]
  },
  {
   "cell_type": "markdown",
   "id": "23fc7107",
   "metadata": {},
   "source": [
    "### 3.\n",
    "\n",
    "We measured how well the CAPM performs by checking the MAE of the time-series alphas.\n",
    "\n",
    "Under classic statistical assumptions, we can test the null hypothesis that the CAPM works by calculating,\n",
    "\n",
    "$$\n",
    "H = T\\left[1+\\left(\\text{SR}_{\\text{mkt}}\\right)^2\\right]^{-1} \\boldsymbol{\\alpha}'\\boldsymbol{\\Sigma}_\\epsilon^{-1}\\boldsymbol{\\alpha}\n",
    "$$\n",
    "\n",
    "This test statistic has a chi-squared distribution...\n",
    "\n",
    "$$H\\sim \\chi^2_n$$"
   ]
  },
  {
   "cell_type": "markdown",
   "id": "139a8a9c",
   "metadata": {},
   "source": [
    "Note the following:\n",
    "\n",
    "- $\\boldsymbol{\\alpha}$ is an $n\\times 1$ vector of the individual regression alphas, $\\alpha^i$.\n",
    "- $\\boldsymbol{\\Sigma}_\\epsilon$ is the $n\\times n$ covariance matrix of the time-series of regression residuals, $\\epsilon^i$, corresponding to each regression. \n",
    "- $\\text{SR}_{\\text{mkt}}$ is the Sharpe-Ratio of $\\tilde{r}^{\\text{mkt}}$.\n",
    "\n",
    "The test statistic, $H$, has a chi-squared distribution with $n=25$ degrees of freedom. So under the null hypothesis of the CAPM holding, $H$ should be small, and the distribution allows us to calculate the probability of seeing such a large $H$, conditional on the CAPM being true.\n",
    "\n",
    "- Which is a stricter test: checking whether any of the $n$ values of $\\alpha^i$ have a statistically significant t-test or checking whether $H$ calculated above is significant?\n",
    "\n",
    "- Conceptually, how does the test-statistic $H$ relate to checking whether $\\tilde{r}^{\\text{mkt}}$ spans the tangency portfolio?"
   ]
  }
 ],
 "metadata": {
  "kernelspec": {
   "display_name": "Python 3",
   "name": "python3"
  },
  "language_info": {
   "name": "python",
   "version": "3.x"
  }
 },
 "nbformat": 4,
 "nbformat_minor": 5
}
